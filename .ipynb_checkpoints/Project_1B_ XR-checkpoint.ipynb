{
 "cells": [
  {
   "cell_type": "markdown",
   "metadata": {},
   "source": [
    "# Part I. ETL Pipeline for Pre-Processing the Files"
   ]
  },
  {
   "cell_type": "markdown",
   "metadata": {},
   "source": [
    "## PLEASE RUN THE FOLLOWING CODE FOR PRE-PROCESSING THE FILES"
   ]
  },
  {
   "cell_type": "markdown",
   "metadata": {},
   "source": [
    "#### Import Python packages "
   ]
  },
  {
   "cell_type": "code",
   "execution_count": 1,
   "metadata": {},
   "outputs": [],
   "source": [
    "import pandas as pd\n",
    "import cassandra\n",
    "import re\n",
    "import os\n",
    "import glob\n",
    "import numpy as np\n",
    "import json\n",
    "import csv"
   ]
  },
  {
   "cell_type": "markdown",
   "metadata": {},
   "source": [
    "#### Creating list of filepaths to process original event csv data files"
   ]
  },
  {
   "cell_type": "code",
   "execution_count": 2,
   "metadata": {},
   "outputs": [
    {
     "name": "stdout",
     "output_type": "stream",
     "text": [
      "/home/xuren/pythondev/data-eng-nd-cassandra\n"
     ]
    }
   ],
   "source": [
    "# checking your current working directory\n",
    "print(os.getcwd())\n",
    "\n",
    "# Get your current folder and subfolder event data\n",
    "filepath = os.getcwd() + '/event_data'\n",
    "\n",
    "# Create a for loop to create a list of files and collect each filepath\n",
    "for root, dirs, files in os.walk(filepath):\n",
    "    \n",
    "# join the file path and roots with the subdirectories using glob\n",
    "    file_path_list = glob.glob(os.path.join(root,'*'))\n",
    "    #print(file_path_list)"
   ]
  },
  {
   "cell_type": "markdown",
   "metadata": {},
   "source": [
    "#### Processing the files to create the data file csv that will be used for Apache Casssandra tables"
   ]
  },
  {
   "cell_type": "code",
   "execution_count": 3,
   "metadata": {},
   "outputs": [],
   "source": [
    "# initiating an empty list of rows that will be generated from each file\n",
    "full_data_rows_list = [] \n",
    "    \n",
    "# for every filepath in the file path list \n",
    "for f in file_path_list:\n",
    "\n",
    "# reading csv file \n",
    "    with open(f, 'r', encoding = 'utf8', newline='') as csvfile: \n",
    "        # creating a csv reader object \n",
    "        csvreader = csv.reader(csvfile) \n",
    "        next(csvreader)\n",
    "        \n",
    " # extracting each data row one by one and append it        \n",
    "        for line in csvreader:\n",
    "            #print(line)\n",
    "            full_data_rows_list.append(line) \n",
    "            \n",
    "# uncomment the code below if you would like to get total number of rows \n",
    "#print(len(full_data_rows_list))\n",
    "# uncomment the code below if you would like to check to see what the list of event data rows will look like\n",
    "#print(full_data_rows_list)\n",
    "\n",
    "# creating a smaller event data csv file called event_datafile_full csv that will be used to insert data into the \\\n",
    "# Apache Cassandra tables\n",
    "csv.register_dialect('myDialect', quoting=csv.QUOTE_ALL, skipinitialspace=True)\n",
    "\n",
    "with open('event_datafile_new.csv', 'w', encoding = 'utf8', newline='') as f:\n",
    "    writer = csv.writer(f, dialect='myDialect')\n",
    "    writer.writerow(['artist','firstName','gender','itemInSession','lastName','length',\\\n",
    "                'level','location','sessionId','song','userId'])\n",
    "    for row in full_data_rows_list:\n",
    "        if (row[0] == ''):\n",
    "            continue\n",
    "        writer.writerow((row[0], row[2], row[3], row[4], row[5], row[6], row[7], row[8], row[12], row[13], row[16]))\n"
   ]
  },
  {
   "cell_type": "code",
   "execution_count": 4,
   "metadata": {},
   "outputs": [
    {
     "name": "stdout",
     "output_type": "stream",
     "text": [
      "6821\n"
     ]
    }
   ],
   "source": [
    "# check the number of rows in your csv file\n",
    "with open('event_datafile_new.csv', 'r', encoding = 'utf8') as f:\n",
    "    print(sum(1 for line in f))"
   ]
  },
  {
   "cell_type": "markdown",
   "metadata": {},
   "source": [
    "# Part II. Complete the Apache Cassandra coding portion of your project. \n",
    "\n",
    "## Now you are ready to work with the CSV file titled <font color=red>event_datafile_new.csv</font>, located within the Workspace directory.  The event_datafile_new.csv contains the following columns: \n",
    "- artist \n",
    "- firstName of user\n",
    "- gender of user\n",
    "- item number in session\n",
    "- last name of user\n",
    "- length of the song\n",
    "- level (paid or free song)\n",
    "- location of the user\n",
    "- sessionId\n",
    "- song title\n",
    "- userId\n",
    "\n",
    "The image below is a screenshot of what the denormalized data should appear like in the <font color=red>**event_datafile_new.csv**</font> after the code above is run:<br>\n",
    "\n",
    "<img src=\"images/image_event_datafile_new.jpg\">"
   ]
  },
  {
   "cell_type": "markdown",
   "metadata": {},
   "source": [
    "## Begin writing your Apache Cassandra code in the cells below"
   ]
  },
  {
   "cell_type": "markdown",
   "metadata": {},
   "source": [
    "#### Creating a Cluster"
   ]
  },
  {
   "cell_type": "code",
   "execution_count": 5,
   "metadata": {},
   "outputs": [],
   "source": [
    "# This should make a connection to a Cassandra instance your local machine \n",
    "# (127.0.0.1)\n",
    "\n",
    "from cassandra.cluster import Cluster\n",
    "cluster = Cluster([\"127.0.0.1\"], port=32779)\n",
    "\n",
    "# To establish connection and begin executing queries, need a session\n",
    "session = cluster.connect()"
   ]
  },
  {
   "cell_type": "markdown",
   "metadata": {},
   "source": [
    "#### Create Keyspace"
   ]
  },
  {
   "cell_type": "code",
   "execution_count": 6,
   "metadata": {},
   "outputs": [
    {
     "data": {
      "text/plain": [
       "<cassandra.cluster.ResultSet at 0x7f59c1065cc0>"
      ]
     },
     "execution_count": 6,
     "metadata": {},
     "output_type": "execute_result"
    }
   ],
   "source": [
    "# TO-DO: Create a Keyspace \n",
    "q = \"\"\"\n",
    "    create keyspace if not exists udacity\n",
    "    with replication = {\n",
    "        'class': 'SimpleStrategy',\n",
    "        'replication_factor': 1\n",
    "    }\n",
    "\"\"\"\n",
    "session.execute(q)"
   ]
  },
  {
   "cell_type": "markdown",
   "metadata": {},
   "source": [
    "#### Set Keyspace"
   ]
  },
  {
   "cell_type": "code",
   "execution_count": 7,
   "metadata": {},
   "outputs": [],
   "source": [
    "# TO-DO: Set KEYSPACE to the keyspace specified above\n",
    "session.set_keyspace(\"udacity\")"
   ]
  },
  {
   "cell_type": "markdown",
   "metadata": {},
   "source": [
    "### Now we need to create tables to run the following queries. Remember, with Apache Cassandra you model the database tables on the queries you want to run."
   ]
  },
  {
   "cell_type": "markdown",
   "metadata": {},
   "source": [
    "## Create queries to ask the following three questions of the data\n",
    "\n",
    "### 1. Give me the artist, song title and song's length in the music app history that was heard during  sessionId = 338, and itemInSession  = 4\n",
    "\n",
    "\n",
    "### 2. Give me only the following: name of artist, song (sorted by itemInSession) and user (first and last name) for userid = 10, sessionid = 182\n",
    "    \n",
    "\n",
    "### 3. Give me every user name (first and last) in my music app history who listened to the song 'All Hands Against His Own'\n",
    "\n",
    "\n"
   ]
  },
  {
   "cell_type": "markdown",
   "metadata": {},
   "source": [
    "# Query 1\n",
    "\n",
    "Our end-user has specified the need to query the artist, song title and song's length in the music app history that was heard during sessionId = 338, and itemInSession = 4.  \n",
    "\n",
    "To do this, we would use a query statement akin to \n",
    "```\n",
    "select artist_name, song_title, song_length from artist_song_table where sessionId=338 and itemInSession=4\n",
    "```\n",
    "\n",
    "Therefore, we should consider building a table with the necessary columns on the PRIMARY KEY sessionId and clustering key on intemInSession"
   ]
  },
  {
   "cell_type": "code",
   "execution_count": 8,
   "metadata": {},
   "outputs": [],
   "source": [
    "q = \"\"\"\n",
    "    create table if not exists artist_song (\n",
    "        sessionId int,\n",
    "        itemInSession int, \n",
    "        artist_name text, \n",
    "        song_title text, \n",
    "        song_length float, \n",
    "        PRIMARY KEY (sessionId, itemInSession)\n",
    "    ) \n",
    "\"\"\"\n",
    "\n",
    "try:\n",
    "    session.execute(q)\n",
    "except Exception as e:\n",
    "    print(e)\n",
    "                    "
   ]
  },
  {
   "cell_type": "code",
   "execution_count": 9,
   "metadata": {},
   "outputs": [
    {
     "name": "stdout",
     "output_type": "stream",
     "text": [
      "\"artist\",\"firstName\",\"gender\",\"itemInSession\",\"lastName\",\"length\",\"level\",\"location\",\"sessionId\",\"song\",\"userId\"\n",
      "\"The Future Sound of London\",\"Ryan\",\"M\",\"0\",\"Smith\",\"405.28934\",\"free\",\"San Jose-Sunnyvale-Santa Clara, CA\",\"873\",\"Papua New Guinea\",\"26\"\n",
      "\"Harmonia\",\"Ryan\",\"M\",\"1\",\"Smith\",\"655.77751\",\"free\",\"San Jose-Sunnyvale-Santa Clara, CA\",\"873\",\"Sehr kosmisch\",\"26\"\n",
      "\"My Chemical Romance\",\"Dustin\",\"M\",\"7\",\"Lee\",\"311.11791\",\"free\",\"Myrtle Beach-Conway-North Myrtle Beach, SC-NC\",\"86\",\"Welcome To The Black Parade (Album Version)\",\"87\"\n",
      "\"Disturbing Tha Peace / Ludacris / Mystikal / I-20\",\"Mohammad\",\"M\",\"0\",\"Rodriguez\",\"276.4273\",\"paid\",\"Sacramento--Roseville--Arden-Arcade, CA\",\"888\",\"Move Bitch\",\"88\"\n",
      "\"Carlos PaiÃÂ£o\",\"Mohammad\",\"M\",\"1\",\"Rodriguez\",\"185.99138\",\"paid\",\"Sacramento--Roseville--Arden-Arcade, CA\",\"888\",\"Playback\",\"88\"\n",
      "\"Snowgoons\",\"Mohammad\",\"M\",\"6\",\"Rodriguez\",\"239.28118\",\"paid\",\"Sacramento--Roseville--Arden-Arcade, CA\",\"888\",\"Show Love\",\"88\"\n",
      "\"Steve Miller\",\"Mohammad\",\"M\",\"7\",\"Rodriguez\",\"325.22404\",\"paid\",\"Sacramento--Roseville--Arden-Arcade, CA\",\"888\",\"Born To Be Blue\",\"88\"\n",
      "\"Creed\",\"Mohammad\",\"M\",\"8\",\"Rodriguez\",\"295.3922\",\"paid\",\"Sacramento--Roseville--Arden-Arcade, CA\",\"888\",\"My Sacrifice\",\"88\"\n",
      "\"Max Richter\",\"Mohammad\",\"M\",\"10\",\"Rodriguez\",\"208.40444\",\"paid\",\"Sacramento--Roseville--Arden-Arcade, CA\",\"888\",\"Untitled (Figures)\",\"88\"\n"
     ]
    }
   ],
   "source": [
    "!head event_datafile_new.csv"
   ]
  },
  {
   "cell_type": "code",
   "execution_count": 10,
   "metadata": {
    "scrolled": false
   },
   "outputs": [],
   "source": [
    "file = 'event_datafile_new.csv'\n",
    "\n",
    "with open(file, encoding = 'utf8') as f:\n",
    "    csvreader = csv.reader(f)\n",
    "    next(csvreader)\n",
    "    for line in csvreader:\n",
    "        query = \"insert into artist_song (sessionId, itemInSession, artist_name, song_title, song_length) \"\n",
    "        query = query + \"values (%s, %s, %s, %s, %s)\"\n",
    "        try:\n",
    "            session.execute(query, (int(line[8]), int(line[3]), line[0], line[9], float(line[5])))\n",
    "        except Exception as e:\n",
    "            print(e, line)\n",
    "                            "
   ]
  },
  {
   "cell_type": "markdown",
   "metadata": {},
   "source": [
    "#### Do a SELECT to verify that the data have been inserted into each table"
   ]
  },
  {
   "cell_type": "code",
   "execution_count": 11,
   "metadata": {
    "scrolled": true
   },
   "outputs": [
    {
     "name": "stdout",
     "output_type": "stream",
     "text": [
      "Faithless Music Matters (Mark Knight Dub) 495.30731201171875\n"
     ]
    }
   ],
   "source": [
    "rs = session.execute(\"select artist_name, song_title, song_length from artist_song_table where sessionId=338 and iteminSession=4\")\n",
    "\n",
    "for r in rs:\n",
    "    print(r[0], r[1], r[2])"
   ]
  },
  {
   "cell_type": "markdown",
   "metadata": {},
   "source": [
    "# Query 2\n",
    "\n",
    "Our end-user has specified the need to query the name of artist, song (sorted by itemInSession) and user (first and last name) for userid = 10, sessionid = 182\n",
    "\n",
    "To do this, we would use a query statement akin to \n",
    "```\n",
    "SELECT artist_name, song_title FROM user_artist_sort_song WHERE userId = 10 and sessionId = 182\n",
    "```\n",
    "\n",
    "Therefore, we should consider building a table with the necessary columns on the COMPOSITE PRIMARY KEY (userId, sessionId) to ensure that all user sessions are stored locally on the same node for performance ramifications and clustering key on intemInSession"
   ]
  },
  {
   "cell_type": "code",
   "execution_count": 12,
   "metadata": {},
   "outputs": [],
   "source": [
    "q = \"\"\"\n",
    "    create table if not exists user_artist_sort_song (\n",
    "        sessionId int,\n",
    "        userId int,\n",
    "        itemInSession int, \n",
    "        artist_name text, \n",
    "        song_title text, \n",
    "        firstName text, \n",
    "        lastName text,\n",
    "        PRIMARY KEY ((userId, sessionId), itemInSession)\n",
    "    ) \n",
    "\"\"\"\n",
    "\n",
    "try:\n",
    "    session.execute(q)\n",
    "except Exception as e:\n",
    "    print(e)\n",
    "                    \n",
    "## 0          1           2         3                4         5       6       7           8          9       10        \n",
    "## \"artist\",\"firstName\",\"gender\",\"itemInSession\",\"lastName\",\"length\",\"level\",\"location\",\"sessionId\",\"song\",\"userId\"\n",
    "\n",
    "file = 'event_datafile_new.csv'\n",
    "\n",
    "with open(file, encoding = 'utf8') as f:\n",
    "    csvreader = csv.reader(f)\n",
    "    next(csvreader) \n",
    "    for line in csvreader:\n",
    "        query = \"insert into user_artist_sort_song (sessionId, userId, itemInSession, artist_name, song_title, firstName, lastName) \"\n",
    "        query = query + \"values (%s, %s, %s, %s, %s, %s, %s)\"\n",
    "        try:\n",
    "            session.execute(query, (int(line[8]), int(line[10]), int(line[3]), line[0], line[9], line[1], line[4]))\n",
    "        except Exception as e:\n",
    "            print(e, line)     "
   ]
  },
  {
   "cell_type": "code",
   "execution_count": 13,
   "metadata": {},
   "outputs": [
    {
     "name": "stdout",
     "output_type": "stream",
     "text": [
      "Down To The Bone Keep On Keepin' On\n",
      "Three Drives Greece 2000\n",
      "Sebastien Tellier Kilometer\n",
      "Lonnie Gordon Catch You Baby (Steve Pitron & Max Sanna Radio Edit)\n"
     ]
    }
   ],
   "source": [
    "rs = session.execute(\"SELECT artist_name, song_title FROM user_artist_sort_song WHERE userId = 10 and sessionId = 182\")\n",
    "\n",
    "for r in rs:\n",
    "    print(r[0], r[1])"
   ]
  },
  {
   "cell_type": "markdown",
   "metadata": {},
   "source": [
    "# Query 3\n",
    "\n",
    "Our end-user has specified the need to query every user name (first and last) in the music app history who listened to the song 'All Hands Against His Own'\n",
    "\n",
    "To do this, we would use a query statement akin to \n",
    "```\n",
    "SELECT firstName, lastName, song_title FROM user_song WHERE song_title = 'All Hands Against His Own' ALLOW FILTERING\n",
    "```\n",
    "\n",
    "Therefore, we should consider building a table with the necessary columns on the COMPOSITE PRIMARY KEY (song_title, userId) to ensure that users are stored together to the respective songs they listened to"
   ]
  },
  {
   "cell_type": "code",
   "execution_count": 14,
   "metadata": {},
   "outputs": [],
   "source": [
    "q = \"\"\"\n",
    "    create table if not exists user_song (\n",
    "        userId int,\n",
    "        song_title text, \n",
    "        firstName text, \n",
    "        lastName text,\n",
    "        PRIMARY KEY ((song_title, userId))\n",
    "    ) \n",
    "\"\"\"\n",
    "\n",
    "try:\n",
    "    session.execute(q)\n",
    "except Exception as e:\n",
    "    print(e)\n",
    "                    \n",
    "## 0          1           2         3                4         5       6       7           8          9       10        \n",
    "## \"artist\",\"firstName\",\"gender\",\"itemInSession\",\"lastName\",\"length\",\"level\",\"location\",\"sessionId\",\"song\",\"userId\"\n",
    "\n",
    "file = 'event_datafile_new.csv'\n",
    "\n",
    "with open(file, encoding = 'utf8') as f:\n",
    "    csvreader = csv.reader(f)\n",
    "    next(csvreader) \n",
    "    for line in csvreader:\n",
    "        query = \"insert into user_song (userId, song_title, firstName, lastName) \"\n",
    "        query = query + \"values (%s, %s, %s, %s)\"\n",
    "        try:\n",
    "            session.execute(query, (int(line[10]), line[9], line[1], line[4]))\n",
    "        except Exception as e:\n",
    "            print(e, line)               "
   ]
  },
  {
   "cell_type": "code",
   "execution_count": 15,
   "metadata": {},
   "outputs": [
    {
     "name": "stdout",
     "output_type": "stream",
     "text": [
      "Tegan Levine All Hands Against His Own\n",
      "Sara Johnson All Hands Against His Own\n",
      "Jacqueline Lynch All Hands Against His Own\n"
     ]
    }
   ],
   "source": [
    "rs = session.execute(\"SELECT firstName, lastName, song_title FROM user_song WHERE song_title = 'All Hands Against His Own' ALLOW FILTERING\")\n",
    "\n",
    "for r in rs:\n",
    "    print(r[0], r[1], r[2])"
   ]
  },
  {
   "cell_type": "markdown",
   "metadata": {},
   "source": [
    "### Drop the tables before closing out the sessions"
   ]
  },
  {
   "cell_type": "code",
   "execution_count": 16,
   "metadata": {},
   "outputs": [],
   "source": [
    "q = \"drop table if exists \"\n",
    "\n",
    "tbls = [\"artist_song\", \"user_artist_sort_song\", \"user_song\"]\n",
    "\n",
    "for tbl in tbls:\n",
    "    try:\n",
    "        session.execute(q + tbl)\n",
    "    except Exception as e:\n",
    "        print(e)"
   ]
  },
  {
   "cell_type": "markdown",
   "metadata": {},
   "source": [
    "### Close the session and cluster connection¶"
   ]
  },
  {
   "cell_type": "code",
   "execution_count": 17,
   "metadata": {},
   "outputs": [],
   "source": [
    "session.shutdown()\n",
    "cluster.shutdown()"
   ]
  },
  {
   "cell_type": "code",
   "execution_count": null,
   "metadata": {},
   "outputs": [],
   "source": []
  },
  {
   "cell_type": "code",
   "execution_count": null,
   "metadata": {},
   "outputs": [],
   "source": []
  }
 ],
 "metadata": {
  "kernelspec": {
   "display_name": "Python 3",
   "language": "python",
   "name": "python3"
  },
  "language_info": {
   "codemirror_mode": {
    "name": "ipython",
    "version": 3
   },
   "file_extension": ".py",
   "mimetype": "text/x-python",
   "name": "python",
   "nbconvert_exporter": "python",
   "pygments_lexer": "ipython3",
   "version": "3.7.3"
  }
 },
 "nbformat": 4,
 "nbformat_minor": 2
}
